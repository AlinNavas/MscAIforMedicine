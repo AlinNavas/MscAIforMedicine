{
 "cells": [
  {
   "cell_type": "code",
   "execution_count": 1,
   "metadata": {},
   "outputs": [],
   "source": [
    "import pandas as pd\n",
    "import numpy as np\n",
    "import matplotlib.pyplot as plt\n",
    "import seaborn as sns\n",
    "\n",
    "import glob\n",
    "import os\n",
    "\n",
    "import librosa\n",
    "import librosa.display"
   ]
  },
  {
   "cell_type": "code",
   "execution_count": 2,
   "metadata": {},
   "outputs": [],
   "source": [
    "seed = 12\n",
    "np.random.seed(seed)\n",
    "\n",
    "path = \"./\"\n",
    "\n",
    "path_audio_files = path + \"Data/genres_original/\"\n",
    "\n",
    "path_imgs = \"./data_pre/spec_imgs/\"\n",
    "\n",
    "batch_size = 32\n",
    "\n",
    "hop_length = 512\n",
    "\n",
    "n_fft = 2048\n",
    "\n",
    "genre_dict = {\"blues\":0,\"classical\":1,\"country\":2,\"disco\":3,\"hiphop\":4,\"jazz\":5,\"metal\":6,\"pop\":7,\"reggae\":8,\"rock\":9}"
   ]
  },
  {
   "cell_type": "code",
   "execution_count": 3,
   "metadata": {},
   "outputs": [
    {
     "name": "stdout",
     "output_type": "stream",
     "text": [
      "Transforming the Audio Files into Spectogram:\n",
      "\t blues\n",
      "\t classical\n",
      "\t country\n",
      "\t disco\n",
      "\t hiphop\n",
      "\t jazz\n",
      "\t metal\n",
      "\t pop\n",
      "\t reggae\n",
      "\t rock\n",
      "Saving the Spectogram Images:\n",
      "\t blues\n",
      "\t classical\n",
      "\t country\n",
      "\t disco\n",
      "\t hiphop\n",
      "\t jazz\n",
      "\t metal\n",
      "\t pop\n",
      "\t reggae\n",
      "\t rock\n"
     ]
    }
   ],
   "source": [
    "print(\"Transforming the Audio Files into Spectogram:\")\n",
    "\n",
    "spec = {}\n",
    "for genre in genre_dict.keys():\n",
    "    print(\"\\t\",genre)\n",
    "    \n",
    "    spec[genre] = []\n",
    "\n",
    "    for name in glob.glob(path_audio_files + genre + \"/*\"):\n",
    "        \n",
    "        if(name != \"./Data/genres_original/jazz/jazz.00054.wav\"):\n",
    "        \n",
    "            data,sampling_rate = librosa.load(name)\n",
    "\n",
    "            stft_data = np.abs(librosa.stft(y = data, n_fft = n_fft,hop_length = hop_length))\n",
    "            DB = librosa.amplitude_to_db(stft_data, ref = np.max)\n",
    "\n",
    "            spec[genre].append(DB)\n",
    "            \n",
    "\n",
    "print(\"Saving the Spectogram Images:\")\n",
    "            \n",
    "os.mkdir(path_imgs)\n",
    "for genre in genre_dict.keys():\n",
    "    print(\"\\t\",genre)\n",
    "    try:\n",
    "        os.mkdir(path_imgs + genre)\n",
    "    except:\n",
    "        pass\n",
    "    \n",
    "    for i in range(len(spec[genre])):\n",
    "\n",
    "        fig, ax = plt.subplots(1, figsize=(12,8))\n",
    "\n",
    "        img = librosa.display.specshow(spec[genre][i], sr = sampling_rate, hop_length = hop_length,cmap = 'cool',ax=ax)\n",
    "\n",
    "        fig.savefig(path_imgs + genre + \"/\" + genre + \"_\" + str(i) + \".png\")\n",
    "        \n",
    "        plt.close()"
   ]
  }
 ],
 "metadata": {
  "kernelspec": {
   "display_name": "base",
   "language": "python",
   "name": "python3"
  },
  "language_info": {
   "codemirror_mode": {
    "name": "ipython",
    "version": 3
   },
   "file_extension": ".py",
   "mimetype": "text/x-python",
   "name": "python",
   "nbconvert_exporter": "python",
   "pygments_lexer": "ipython3",
   "version": "3.10.9"
  }
 },
 "nbformat": 4,
 "nbformat_minor": 2
}
