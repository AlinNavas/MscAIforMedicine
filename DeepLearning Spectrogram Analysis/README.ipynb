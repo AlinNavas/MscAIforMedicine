{
 "cells": [
  {
   "cell_type": "markdown",
   "metadata": {},
   "source": [
    "# README"
   ]
  },
  {
   "cell_type": "markdown",
   "metadata": {},
   "source": [
    "The 3 VGG models are in ipynb files and can be run locally but the InceptionV3 files need to be run on a HPC and are in python files with the outputs in .out files"
   ]
  },
  {
   "cell_type": "markdown",
   "metadata": {},
   "source": [
    "The outputs of all files like training and validation curves, logs and model weights are stored in folders named the same in home directory"
   ]
  },
  {
   "cell_type": "markdown",
   "metadata": {},
   "source": [
    "The experiment folder contains all the experiments performed. The pre processing was done locally but the rest was done on sonic, all the output are stored in the SONIC_OUTPUTS folder.\n",
    "The Data folder contains original data which has been preprocessed into the data_pre folder."
   ]
  },
  {
   "cell_type": "markdown",
   "metadata": {},
   "source": [
    "Due to large size of the folder, all the model weights except for the best performing VGG16_r2 were deleted. The original data from kaggle that was stored in the Data folder was also deleted as well as the preprocessed data in data_pre folder.\n",
    "\n",
    "Please copy the original data into the Data folder and run scripts starting with 0 in experiments folder to get preprocessed data then run script starting with 1 to get the folders in correct format for the image data generators flow from directory function. This will populate the data_pre folder. Thus allowing all other experiments to be run and also the .ipynb and .py file sin the main folder."
   ]
  }
 ],
 "metadata": {
  "language_info": {
   "name": "python"
  }
 },
 "nbformat": 4,
 "nbformat_minor": 2
}
